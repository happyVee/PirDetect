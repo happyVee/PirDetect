{
 "cells": [
  {
   "cell_type": "code",
   "execution_count": 2,
   "metadata": {},
   "outputs": [],
   "source": [
    "import math\n",
    "import numpy as np\n",
    "import h5py\n",
    "import matplotlib.pyplot as plt\n",
    "import tensorflow as tf\n",
    "from tensorflow.python.framework import ops"
   ]
  },
  {
   "cell_type": "markdown",
   "metadata": {},
   "source": [
    "### Build a nueral network \n",
    "Input:10000dimension.  \n",
    "Output:0 ,1  \n",
    "model: LINEAR -> RELU -> LINEAR -> RELU -> LINEAR -> SIGMOID\n",
    "\n",
    "1.  m = 150\n",
    "2.  x = (10000,150)\n",
    "3.  w[1] = (256,10000)\n",
    "4.  b[1] = (256,1)\n",
    "5.  z[1] = w[1]* x + b[1],(256,150)\n",
    "6.  a[1] = Relu(z)\n",
    "7.  w[2] = (8,256)\n",
    "8.  b[2] = (8,1)\n",
    "9.  z[2] = w[2]* x + b[2],(8,150)\n",
    "10. a[2] = sigmoid(z)\n",
    "11. w[3] = (1,8)\n",
    "12. b[3] = (1,1)\n",
    "13. z[3] = w[3]* x + b[3],(1,150)\n",
    "14. a[3] = sigmoid(z)\n",
    "15. y_hat = a[3]>0.6,(1,150)\n",
    "16. 𝐿(𝑦̂(𝑖),𝑦(𝑖))=−( 𝑦(𝑖)log(𝑦̂(𝑖))+(1−𝑦(𝑖))log (1−𝑦̂(𝑖))\n",
    "\n"
   ]
  },
  {
   "cell_type": "markdown",
   "metadata": {},
   "source": [
    "### import data\n",
    "<font color=#0000ff size=4>  \n",
    "Data is save in testin,testout,teainin,trainout  \n",
    "Use np.load to import them\n",
    "</font>"
   ]
  },
  {
   "cell_type": "code",
   "execution_count": 3,
   "metadata": {},
   "outputs": [],
   "source": [
    "X_train_orig = np.load('./data/trainin.npy')\n",
    "Y_train_orig = np.load('./data/trainout.npy')\n",
    "X_test_orig = np.load('./data/testin.npy')\n",
    "Y_test_orig = np.load('./data/testout.npy')"
   ]
  },
  {
   "cell_type": "code",
   "execution_count": 125,
   "metadata": {
    "scrolled": false
   },
   "outputs": [
    {
     "name": "stdout",
     "output_type": "stream",
     "text": [
      "number of training examples = 150\n",
      "number of test examples = 51\n",
      "X_train shape: (10000, 150)\n",
      "Y_train shape: (1, 150)\n",
      "X_test shape: (10000, 51)\n",
      "Y_test shape: (1, 51)\n",
      "0\n",
      "[0.50195312 0.50195312 0.58984375 ... 0.51367188 0.58789062 0.52734375]\n"
     ]
    }
   ],
   "source": [
    "X_train = X_train_orig.T/512\n",
    "Y_train = Y_train_orig.reshape((Y_train_orig.shape[0],1)).T\n",
    "X_test = X_test_orig.T/512\n",
    "Y_test = Y_test_orig.reshape((Y_test_orig.shape[0],1)).T\n",
    "print (\"number of training examples = \" + str(X_train.shape[1]))\n",
    "print (\"number of test examples = \" + str(X_test.shape[1]))\n",
    "print (\"X_train shape: \" + str(X_train.shape))\n",
    "print (\"Y_train shape: \" + str(Y_train.shape))\n",
    "print (\"X_test shape: \" + str(X_test.shape))\n",
    "print (\"Y_test shape: \" + str(Y_test.shape))\n",
    "print(Y_test[0,2])\n",
    "print(X_test[:,0])"
   ]
  },
  {
   "cell_type": "code",
   "execution_count": 126,
   "metadata": {},
   "outputs": [],
   "source": [
    "def create_placeholders(n_x, n_y):\n",
    "\n",
    "    X = tf.placeholder(tf.float32, shape = [n_x,None],name = 'X')\n",
    "    Y = tf.placeholder(tf.float32, shape = [n_y,None],name = 'Y')\n",
    "\n",
    "    return X, Y"
   ]
  },
  {
   "cell_type": "code",
   "execution_count": 127,
   "metadata": {},
   "outputs": [],
   "source": [
    "def initialize_parameters():\n",
    "    \"\"\"\n",
    "                        W1 : [256, 10000]\n",
    "                        b1 : [256, 1]\n",
    "                        W2 : [8, 256]\n",
    "                        b2 : [8, 1]\n",
    "                        W3 : [1, 8]\n",
    "                        b3 : [1, 1]\n",
    "    \n",
    "    Returns:\n",
    "    parameters -- a dictionary of tensors containing W1, b1, W2, b2, W3, b3\n",
    "    \"\"\"\n",
    "    \n",
    "    tf.set_random_seed(1)                   # so that your \"random\" numbers match ours\n",
    "        \n",
    "    ### START CODE HERE ### (approx. 6 lines of code)\n",
    "    W1 = tf.get_variable(\"W1\", [128, 10000], initializer = tf.contrib.layers.xavier_initializer(seed = 1))\n",
    "    b1 = tf.get_variable(\"b1\", [128, 1], initializer = tf.zeros_initializer())\n",
    "    W2 = tf.get_variable(\"W2\", [8, 128], initializer = tf.contrib.layers.xavier_initializer(seed = 1))\n",
    "    b2 = tf.get_variable(\"b2\", [8,1], initializer = tf.zeros_initializer())\n",
    "    W3 = tf.get_variable(\"W3\", [1,8], initializer = tf.contrib.layers.xavier_initializer(seed = 1))\n",
    "    b3 = tf.get_variable(\"b3\", [1,1], initializer = tf.zeros_initializer())\n",
    "    ### END CODE HERE ###\n",
    "\n",
    "    parameters = {\"W1\": W1,\n",
    "                  \"b1\": b1,\n",
    "                  \"W2\": W2,\n",
    "                  \"b2\": b2,\n",
    "                  \"W3\": W3,\n",
    "                  \"b3\": b3}\n",
    "    \n",
    "    return parameters"
   ]
  },
  {
   "cell_type": "code",
   "execution_count": 128,
   "metadata": {},
   "outputs": [],
   "source": [
    "def forward_propagation(X, parameters):\n",
    "    #Implements the forward propagation for the model: LINEAR -> RELU -> LINEAR -> RELU -> LINEAR -> SIGMOID\n",
    "    \n",
    "    # Retrieve the parameters from the dictionary \"parameters\" \n",
    "    W1 = parameters['W1']\n",
    "    b1 = parameters['b1']\n",
    "    W2 = parameters['W2']\n",
    "    b2 = parameters['b2']\n",
    "    W3 = parameters['W3']\n",
    "    b3 = parameters['b3']\n",
    "    \n",
    "    ### START CODE HERE ### (approx. 5 lines)              # Numpy Equivalents:\n",
    "    Z1 = tf.add(tf.matmul(W1,X),b1)                                              # Z1 = np.dot(W1, X) + b1\n",
    "    A1 = tf.nn.relu(Z1)                                              # A1 = relu(Z1)\n",
    "    Z2 = tf.add(tf.matmul(W2,A1),b2)                                              # Z2 = np.dot(W2, a1) + b2\n",
    "    A2 = tf.nn.relu(Z2)                                                 # A2 = relu(Z2)\n",
    "    Z3 = tf.add(tf.matmul(W3,A2),b3)                                              # Z3 = np.dot(W3,Z2) + b3\n",
    "    #A3 = tf.sigmoid(Z3)\n",
    "    ### END CODE HERE ###\n",
    "    \n",
    "    return Z3"
   ]
  },
  {
   "cell_type": "markdown",
   "metadata": {},
   "source": [
    "Cost： 𝐿(𝑦̂(𝑖),𝑦(𝑖))=−1/m( 𝑦(𝑖)log(𝑦̂(𝑖))+(1−𝑦(𝑖))log (1−𝑦̂(𝑖))"
   ]
  },
  {
   "cell_type": "code",
   "execution_count": 129,
   "metadata": {},
   "outputs": [],
   "source": [
    "def compute_cost(Z3, Y):\n",
    "    cost = tf.reduce_mean(tf.nn.sigmoid_cross_entropy_with_logits(logits=Z3, labels=Y))\n",
    "    '''\n",
    "    loss1 = Y * tf.log(A3)\n",
    "    loss2 = (1 - Y) * tf.log(1 - A3)\n",
    "    loss = - tf.reduce_sum(loss1 + loss2, reduction_indices=1)\n",
    "    cost = tf.reduce_mean(loss)\n",
    "    '''\n",
    "    return cost"
   ]
  },
  {
   "cell_type": "code",
   "execution_count": 132,
   "metadata": {},
   "outputs": [],
   "source": [
    "def model(X_train, Y_train, X_test, Y_test, learning_rate = 0.0001, num_epochs = 1500, print_cost = True):\n",
    "    \"\"\"\n",
    "    Implements a three-layer tensorflow neural network: LINEAR->RELU->LINEAR->RELU->LINEAR->SIGMOID.\n",
    "    \n",
    "    Arguments:\n",
    "    X_train -- training set, of shape (input size = 12288, number of training examples = 1080)\n",
    "    Y_train -- test set, of shape (output size = 6, number of training examples = 1080)\n",
    "    X_test -- training set, of shape (input size = 12288, number of training examples = 120)\n",
    "    Y_test -- test set, of shape (output size = 6, number of test examples = 120)\n",
    "    learning_rate -- learning rate of the optimization\n",
    "    num_epochs -- number of epochs of the optimization loop\n",
    "    minibatch_size -- size of a minibatch\n",
    "    print_cost -- True to print the cost every 100 epochs\n",
    "    \n",
    "    Returns:\n",
    "    parameters -- parameters learnt by the model. They can then be used to predict.\n",
    "    \"\"\"\n",
    "    \n",
    "    ops.reset_default_graph()                         # to be able to rerun the model without overwriting tf variables\n",
    "    tf.set_random_seed(5)                             # to keep consistent results\n",
    "    (n_x, m) = X_train.shape                          # (n_x: input size, m : number of examples in the train set)\n",
    "    n_y = Y_train.shape[0]                            # n_y : output size\n",
    "    costs = []                                        # To keep track of the cost\n",
    "    \n",
    "    # Create Placeholders of shape (n_x, n_y)\n",
    "    X, Y = create_placeholders(n_x, n_y)\n",
    "    # Initialize parameters\n",
    "    parameters = initialize_parameters()\n",
    "    # Forward propagation: Build the forward propagation in the tensorflow graph\n",
    "    Z3 = forward_propagation(X, parameters)\n",
    "    # Cost function: Add cost function to tensorflow graph\n",
    "    cost = compute_cost(Z3, Y)\n",
    "    # Backpropagation: Define the tensorflow optimizer. Use an AdamOptimizer.\n",
    "    optimizer = tf.train.AdamOptimizer(learning_rate = learning_rate).minimize(cost)\n",
    "    # Initialize all the variables\n",
    "    init = tf.global_variables_initializer()\n",
    "\n",
    "    # Start the session to compute the tensorflow graph\n",
    "    with tf.Session() as sess:\n",
    "        \n",
    "        # Run the initialization\n",
    "        sess.run(init)\n",
    "        \n",
    "        # Do the training loop\n",
    "        for epoch in range(num_epochs):\n",
    "\n",
    "            epoch_cost = 0.                       # Defines a cost related to an epoch\n",
    "            \n",
    "            _ , epoch_cost = sess.run([optimizer, cost], feed_dict={X: X_train, Y: Y_train})\n",
    "            if print_cost == True and epoch % 100 == 0:\n",
    "                print (\"Cost after epoch %i: %f\" % (epoch, epoch_cost))\n",
    "            if print_cost == True and epoch % 5 == 0:\n",
    "                costs.append(epoch_cost)\n",
    "            \n",
    "        # plot the cost\n",
    "        plt.plot(np.squeeze(costs))\n",
    "        plt.ylabel('cost')\n",
    "        plt.xlabel('iterations (per tens)')\n",
    "        plt.title(\"Learning rate =\" + str(learning_rate))\n",
    "        plt.show()\n",
    "\n",
    "        # lets save the parameters in a variable\n",
    "        parameters = sess.run(parameters)\n",
    "        print (\"Parameters have been trained!\")\n",
    "\n",
    "        # Calculate the correct predictions  # Calculate accuracy on the test set\n",
    "        #correct_prediction = tf.equal(tf.argmax(A3), tf.argmax(Y))\n",
    "        #accuracy = tf.reduce_mean(tf.cast(correct_prediction, \"float\"))\n",
    "\n",
    "        prediction = tf.round(tf.sigmoid(Z3))\n",
    "        correct_prediction = tf.cast(tf.equal(prediction, Y), tf.float32)\n",
    "        accuracy = tf.reduce_mean(correct_prediction)\n",
    "        \n",
    "        print (\"Train Accuracy:\", accuracy.eval({X: X_train, Y: Y_train}))\n",
    "        print (\"Test Accuracy:\", accuracy.eval({X: X_test, Y: Y_test}))\n",
    "        \n",
    "        return parameters"
   ]
  },
  {
   "cell_type": "code",
   "execution_count": 133,
   "metadata": {},
   "outputs": [
    {
     "name": "stdout",
     "output_type": "stream",
     "text": [
      "Cost after epoch 0: 0.728865\n",
      "Cost after epoch 100: 0.545543\n",
      "Cost after epoch 200: 0.516229\n",
      "Cost after epoch 300: 0.486692\n",
      "Cost after epoch 400: 0.456114\n",
      "Cost after epoch 500: 0.424516\n",
      "Cost after epoch 600: 0.386632\n",
      "Cost after epoch 700: 0.346356\n",
      "Cost after epoch 800: 0.309870\n",
      "Cost after epoch 900: 0.278873\n",
      "Cost after epoch 1000: 0.257445\n",
      "Cost after epoch 1100: 0.243153\n",
      "Cost after epoch 1200: 0.231300\n",
      "Cost after epoch 1300: 0.238953\n",
      "Cost after epoch 1400: 0.214435\n"
     ]
    },
    {
     "data": {
      "image/png": "[encoded data removed]",
      "text/plain": [
       "<matplotlib.figure.Figure at 0x2227fffc518>"
      ]
     },
     "metadata": {},
     "output_type": "display_data"
    },
    {
     "name": "stdout",
     "output_type": "stream",
     "text": [
      "Parameters have been trained!\n",
      "Train Accuracy: 0.9866667\n",
      "Test Accuracy: 0.54901963\n"
     ]
    }
   ],
   "source": [
    "parameters = model(X_train, Y_train, X_test, Y_test)"
   ]
  },
  {
   "cell_type": "code",
   "execution_count": 20,
   "metadata": {},
   "outputs": [
    {
     "data": {
      "text/plain": [
       "array([[-0.7535876 , -0.78596216, -0.7008648 , -0.40107673,  0.2272436 ,\n",
       "         0.10156199,  0.70664823, -0.11543596]], dtype=float32)"
      ]
     },
     "execution_count": 20,
     "metadata": {},
     "output_type": "execute_result"
    }
   ],
   "source": [
    "W1 = parameters['W1']\n",
    "b1 = parameters['b1']\n",
    "W2 = parameters['W2']\n",
    "b2 = parameters['b2']\n",
    "W3 = parameters['W3']\n",
    "b3 = parameters['b3']"
   ]
  },
  {
   "cell_type": "code",
   "execution_count": 54,
   "metadata": {},
   "outputs": [],
   "source": [
    "def calout(X,parameters):\n",
    "    W1 = parameters['W1']\n",
    "    b1 = parameters['b1']\n",
    "    W2 = parameters['W2']\n",
    "    b2 = parameters['b2']\n",
    "    W3 = parameters['W3']\n",
    "    b3 = parameters['b3']\n",
    "    Z1 = np.dot(W1, X) + b1\n",
    "    A1 = relu(Z1)\n",
    "    Z2 = np.dot(W2, A1) + b2\n",
    "    A2 = relu(Z2)\n",
    "    Z3 = np.dot(W3,Z2) + b3\n",
    "    A3 = sigmoid(Z3)\n",
    "    Y = np.zeros(A3.shape)\n",
    "    Y[A3 >0.5] = 1\n",
    "    return Y\n"
   ]
  },
  {
   "cell_type": "code",
   "execution_count": 55,
   "metadata": {},
   "outputs": [],
   "source": [
    "def sigmoid(x):\n",
    "    s = 1/(1+np.exp(-x))\n",
    "    return s"
   ]
  },
  {
   "cell_type": "code",
   "execution_count": 56,
   "metadata": {},
   "outputs": [],
   "source": [
    "def relu(x):\n",
    "    s = np.maximum(x, 0)\n",
    "    return s"
   ]
  },
  {
   "cell_type": "code",
   "execution_count": 76,
   "metadata": {},
   "outputs": [],
   "source": [
    "def showimg(fmtr,showflag = True,saveflag = False,fname='imgtoshow.jpg',imgpath = './outimg/'):\n",
    "    fmtr = fmtr.reshape([-1,20])\n",
    "    mean_matrix = np.mean(fmtr,1)\n",
    "    mean_matrix = mean_matrix.reshape([len(mean_matrix),1])\n",
    "    if max(mean_matrix)>500:\n",
    "        maxlim = max(mean_matrix) + 100\n",
    "    else:\n",
    "        maxlim = 500\n",
    "    if min(mean_matrix)<200:\n",
    "        minlim = min(mean_matrix) - 100\n",
    "    else:\n",
    "        minlim = 200\n",
    "    plt.plot(range(len(mean_matrix)),mean_matrix,'ro')\n",
    "    plt.xlabel('time')\n",
    "    plt.ylabel('value')\n",
    "    plt.ylim(minlim,maxlim)\n",
    "    plt.title(fname)\n",
    "    if saveflag:\n",
    "        if not os.path.exists(imgpath):\n",
    "            os.mkdir(imgpath)\n",
    "        plt.savefig(imgpath+fname+\".jpg\")\n",
    "    if showimg:\n",
    "        plt.show()\n",
    "    plt.clf()"
   ]
  },
  {
   "cell_type": "code",
   "execution_count": 57,
   "metadata": {},
   "outputs": [],
   "source": [
    "yout = calout(X_test,parameters)"
   ]
  },
  {
   "cell_type": "code",
   "execution_count": 199,
   "metadata": {},
   "outputs": [],
   "source": [
    "def showdiff(X,Y,parameters,showflag = False,saveflag = False):\n",
    "    Y_predict = calout(X,parameters)\n",
    "    addy = (Y + Y_predict)[0]\n",
    "    suby = (Y - Y_predict)[0]\n",
    "    \n",
    "    ytoy = np.where(addy == 2)[0]\n",
    "    yton = np.where(suby == 1)[0]\n",
    "    nton = np.where(addy == 0)[0]\n",
    "    ntoy = np.where(suby == -1)[0]\n",
    "\n",
    "    print('Summany:',)\n",
    "    print('We have wrong answers:  ',len(ntoy)+len(yton),'\\nThe accuracy is :\\t',1-(len(ntoy)+len(yton))/Y.shape[1])\n",
    "    print('=============================================\\n','predict','  real_yes','  real_no')\n",
    "    print('  yes','\\t  ',len(ytoy),'\\t\\t',len(ntoy))\n",
    "    print('  no','\\t  ',len(yton),'\\t\\t',len(nton))\n",
    "    \n",
    "    dic = {'ytoy':ytoy,'yton':yton,'ntoy':ntoy,'nton':nton}\n",
    "    if showflag:\n",
    "        for key,value in dic.items():\n",
    "            for v in value:\n",
    "                xarr = X[:,v]\n",
    "                showimg(xarr*768,showflag = True,saveflag = saveflag,fname= key + ':'+ str(v))\n",
    "    return  dic"
   ]
  },
  {
   "cell_type": "code",
   "execution_count": 200,
   "metadata": {
    "scrolled": false
   },
   "outputs": [
    {
     "name": "stdout",
     "output_type": "stream",
     "text": [
      "Summany:\n",
      "We have wrong answers:   15 \n",
      "The accuracy is :\t 0.7058823529411764\n",
      "=============================================\n",
      " predict   real_yes   real_no\n",
      "  yes \t   16 \t\t 6\n",
      "  no \t   9 \t\t 20\n"
     ]
    }
   ],
   "source": [
    "k = showdiff(X_test,Y_test,parameters,showflag = False,saveflag =False)"
   ]
  },
  {
   "cell_type": "code",
   "execution_count": 187,
   "metadata": {},
   "outputs": [],
   "source": [
    "dic = {'ytoy':ytoy,'yton':yton,'ntoy':ntoy,'nton':nton}"
   ]
  },
  {
   "cell_type": "code",
   "execution_count": 189,
   "metadata": {},
   "outputs": [
    {
     "name": "stdout",
     "output_type": "stream",
     "text": [
      "ntoy\n",
      "ytoy\n",
      "nton\n",
      "yton\n"
     ]
    }
   ],
   "source": [
    "for key,v in dic.items():\n",
    "    print(key)"
   ]
  },
  {
   "cell_type": "code",
   "execution_count": 178,
   "metadata": {},
   "outputs": [
    {
     "data": {
      "text/plain": [
       "16"
      ]
     },
     "execution_count": 178,
     "metadata": {},
     "output_type": "execute_result"
    }
   ],
   "source": [
    "len(ytoy[0])"
   ]
  },
  {
   "cell_type": "code",
   "execution_count": null,
   "metadata": {},
   "outputs": [],
   "source": []
  }
 ],
 "metadata": {
  "kernelspec": {
   "display_name": "Python 3",
   "language": "python",
   "name": "python3"
  },
  "language_info": {
   "codemirror_mode": {
    "name": "ipython",
    "version": 3
   },
   "file_extension": ".py",
   "mimetype": "text/x-python",
   "name": "python",
   "nbconvert_exporter": "python",
   "pygments_lexer": "ipython3",
   "version": "3.5.1"
  }
 },
 "nbformat": 4,
 "nbformat_minor": 2
}
